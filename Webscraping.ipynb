{
 "cells": [
  {
   "cell_type": "code",
   "execution_count": 3,
   "id": "f415e89f",
   "metadata": {},
   "outputs": [],
   "source": [
    "#importing libraries\n",
    "import requests\n",
    "from bs4 import BeautifulSoup\n",
    "import csv\n",
    "from itertools import zip_longest\n"
   ]
  },
  {
   "cell_type": "code",
   "execution_count": 4,
   "id": "0dddc076",
   "metadata": {},
   "outputs": [],
   "source": [
    "#using requests to fetch the url\n",
    "result =requests.get('https://wuzzuf.net/search/jobs/?q=python&a=hpb')"
   ]
  },
  {
   "cell_type": "code",
   "execution_count": 5,
   "id": "b48a2d4a",
   "metadata": {},
   "outputs": [],
   "source": [
    "#save page content\n",
    "src =result.content"
   ]
  },
  {
   "cell_type": "code",
   "execution_count": 6,
   "id": "a75a3a61",
   "metadata": {},
   "outputs": [],
   "source": [
    "##create soup object to parse content\n",
    "\n",
    "soup =BeautifulSoup(src,'lxml')"
   ]
  },
  {
   "cell_type": "code",
   "execution_count": 7,
   "id": "8baac585",
   "metadata": {},
   "outputs": [],
   "source": [
    "# find the elements containing info I need:# (Job title, company names, location, skills)\n",
    "\n",
    "job_titles = soup.find_all(\"h2\", {\"class\": \"css-m604qf\"})\n",
    "company_name = soup.find_all(\"a\", {\"class\": \"css-17s97q8\"})\n",
    "location = soup.find_all(\"span\", {\"class\": \"css-5wys0k\"})\n",
    "job_skills = soup.find_all(\"div\", {\"class\": \"css-y4udm8\"})\n",
    "\n"
   ]
  },
  {
   "cell_type": "code",
   "execution_count": 8,
   "id": "97a7567b",
   "metadata": {},
   "outputs": [],
   "source": [
    "#creating  empty lists to house the scrapped data\n",
    "job_title_list = []\n",
    "company_name_list = []\n",
    "location_list = []\n",
    "job_skills_list = []"
   ]
  },
  {
   "cell_type": "code",
   "execution_count": 10,
   "id": "d0e0be91",
   "metadata": {},
   "outputs": [],
   "source": [
    "#transfering the text data into the empty lists\n",
    "\n",
    "for i in range(len(location)):\n",
    "  job_title_list.append(job_titles[i].text)\n",
    "  company_name_list.append(company_name[i].text)\n",
    "  location_list.append(location[i].text)\n",
    "  job_skills_list.append(job_skills[i].text)"
   ]
  },
  {
   "cell_type": "code",
   "execution_count": 11,
   "id": "c776438e",
   "metadata": {},
   "outputs": [
    {
     "data": {
      "text/plain": [
       "['Senior Python Developer (Django - PHP)',\n",
       " 'Python Backend Developer',\n",
       " 'Python/Django Backend Developer',\n",
       " 'Python Developer',\n",
       " 'AI & Data Science Python Developer Intern',\n",
       " 'Python Developer',\n",
       " 'Python Developer',\n",
       " 'Python Developer',\n",
       " 'Remote Senior Python Engineer',\n",
       " 'Remote Python Data Scientist',\n",
       " 'SASE Engineer with Python',\n",
       " 'Python Django Developer',\n",
       " 'Junior Software Developer',\n",
       " 'Ai Research Team Lead',\n",
       " 'Senior odoo developer']"
      ]
     },
     "execution_count": 11,
     "metadata": {},
     "output_type": "execute_result"
    }
   ],
   "source": [
    "job_title_list"
   ]
  },
  {
   "cell_type": "code",
   "execution_count": 12,
   "id": "0e05ce51",
   "metadata": {},
   "outputs": [
    {
     "data": {
      "text/plain": [
       "['Confidential -',\n",
       " 'Geek Labs -',\n",
       " 'mas trading  -',\n",
       " 'Confidential -',\n",
       " 'Sequel Solutions -',\n",
       " 'Elarkan for construction -',\n",
       " 'Fekra Technology Solutions and Construction -',\n",
       " 'Afaqy -',\n",
       " 'Turing -',\n",
       " 'Turing -',\n",
       " 'CodiLime -',\n",
       " 'Element8 -',\n",
       " 'Confidential -',\n",
       " 'Nahdet Misr Publishing Group -',\n",
       " 'Perfect Tech -']"
      ]
     },
     "execution_count": 12,
     "metadata": {},
     "output_type": "execute_result"
    }
   ],
   "source": [
    "company_name_list"
   ]
  },
  {
   "cell_type": "code",
   "execution_count": 13,
   "id": "e60cbd7c",
   "metadata": {},
   "outputs": [
    {
     "data": {
      "text/plain": [
       "['Giza, Egypt ',\n",
       " 'Maadi, Cairo, Egypt ',\n",
       " 'Maadi, Cairo, Egypt ',\n",
       " 'Cairo, Egypt ',\n",
       " 'Cairo, Egypt ',\n",
       " 'Smouha, Alexandria, Egypt ',\n",
       " 'Dokki, Giza, Egypt ',\n",
       " 'Maadi, Cairo, Egypt ',\n",
       " 'Cairo, Egypt ',\n",
       " 'Cairo, Egypt ',\n",
       " 'Cairo, Egypt ',\n",
       " 'Dubai, United Arab Emirates ',\n",
       " 'Mohandessin, Giza, Egypt ',\n",
       " 'Mohandessin, Giza, Egypt ',\n",
       " 'Nasr City, Cairo, Egypt ']"
      ]
     },
     "execution_count": 13,
     "metadata": {},
     "output_type": "execute_result"
    }
   ],
   "source": [
    "location_list"
   ]
  },
  {
   "cell_type": "code",
   "execution_count": 14,
   "id": "e546b837",
   "metadata": {},
   "outputs": [
    {
     "data": {
      "text/plain": [
       "['Full TimeHybridExperienced · 5+ Yrs of Exp · IT/Software Development · Engineering - Telecom/Technology · Python · Computer Science · Django · PHP · REST · Information Technology (IT) · Software Development · English',\n",
       " 'Full TimeOn-siteEntry Level · 2+ Yrs of Exp · IT/Software Development · Other · Computer Science · MEAN Stack · Backend developer · fullstack developer · Python · Web Development · WordPress',\n",
       " 'Full TimeRemoteExperienced · 3 - 5 Yrs of Exp · IT/Software Development · Engineering - Telecom/Technology · Django · Information Technology (IT) · backend · Programming · Python',\n",
       " 'Full TimeHybridExperienced · 5 - 7 Yrs of Exp · IT/Software Development · Information Technology (IT) · Python',\n",
       " 'InternshipRemoteStudent · 0 - 1 Yrs of Exp · IT/Software Development · Engineering - Telecom/Technology · Computer Science · Algorithms · Information Technology (IT) · Python · Software · Software Development · Software Engineering · Programming',\n",
       " 'Part TimeFreelance / ProjectWork From HomeExperienced · 8 - 15 Yrs of Exp · IT/Software Development · Engineering - Telecom/Technology · HTML5 · JavaScript · Software Development · Python · Engineering',\n",
       " 'Full TimeWork From HomeExperienced · 3 - 5 Yrs of Exp · IT/Software Development · Engineering - Telecom/Technology · Computer Science · Development · Information Technology (IT) · Python · Remote · Software Development',\n",
       " 'Full TimeExperienced · 2 - 4 Yrs of Exp · IT/Software Development · Computer Science · Software Development · Python',\n",
       " 'Full TimeExperienced · IT/Software Development · Analyst/Research · Engineering - Telecom/Technology · Computer Science · Information Technology (IT) · Software Engineering · Python · Software Development · Computer Engineering · Flask',\n",
       " 'Full TimeEntry Level · IT/Software Development · Analyst/Research · Engineering - Telecom/Technology · information technology (it) · python · computer science · computer engineering · sql · engineering · data science',\n",
       " 'Freelance / ProjectExperienced · IT/Software Development · Analyst/Research · Engineering - Telecom/Technology · Python · Computer Science · Information Technology (IT) · Software Engineering · Docker · Django · Software Development',\n",
       " 'Full TimeEntry Level · Creative/Design/Art · IT/Software Development · Engineering - Telecom/Technology · Python · Information Technology (IT) · Computer Science · Django · Software Development · javaScript · Software Engineering',\n",
       " 'Full TimeOn-siteEntry Level · 2+ Yrs of Exp · IT/Software Development · Engineering - Telecom/Technology · Computer Science · Software Development · Software Engineering · SQL · OOP · XML · Web Development · JavaScript',\n",
       " 'Full TimeHybridExperienced · 5 - 8 Yrs of Exp · IT/Software Development · Research · Computer Science · Intelligence · Python · TensorFlow · PyTorch',\n",
       " 'Full TimeHybridSenior Management · 3 - 6 Yrs of Exp · Business Development · IT/Software Development · Engineering - Telecom/Technology · Information Technology (IT) · Software · Software Development · Software Engineering · Python']"
      ]
     },
     "execution_count": 14,
     "metadata": {},
     "output_type": "execute_result"
    }
   ],
   "source": [
    " job_skills_list"
   ]
  },
  {
   "cell_type": "code",
   "execution_count": 26,
   "id": "7fa0f63f",
   "metadata": {},
   "outputs": [],
   "source": [
    "#defining the path of the csv file:\n",
    "file_path = \"C:\\\\Users\\\\Nana Ekua\\\\Desktop\\\\TECH4DEV\\\\jobs_scraped_data.csv\"   \n",
    "\n",
    "# all the features:\n",
    "file_list = [job_title_list, company_name_list,location_list,  job_skills_list]\n",
    "exported = zip_longest(*file_list)\n",
    "\n",
    "# open the file, and if it dosn't exist so create it\n",
    "with open(file_path, \"w\", newline= '', encoding= \"utf-8\") as csvfile:\n",
    "\n",
    "  # creating a csv writer object to write in the file\n",
    "  csv_writer = csv.writer(csvfile)\n",
    "\n",
    "  # # writing data to the csv file\n",
    "  csv_writer.writerow([\"job title\", \"company name\", \"location\", \"skills\"])\n",
    "  csv_writer.writerows(exported)"
   ]
  },
  {
   "cell_type": "code",
   "execution_count": null,
   "id": "bdaba48e",
   "metadata": {},
   "outputs": [],
   "source": []
  }
 ],
 "metadata": {
  "kernelspec": {
   "display_name": "Python 3 (ipykernel)",
   "language": "python",
   "name": "python3"
  },
  "language_info": {
   "codemirror_mode": {
    "name": "ipython",
    "version": 3
   },
   "file_extension": ".py",
   "mimetype": "text/x-python",
   "name": "python",
   "nbconvert_exporter": "python",
   "pygments_lexer": "ipython3",
   "version": "3.11.5"
  }
 },
 "nbformat": 4,
 "nbformat_minor": 5
}
